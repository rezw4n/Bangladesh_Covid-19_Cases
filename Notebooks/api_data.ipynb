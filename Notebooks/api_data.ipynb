{
 "cells": [
  {
   "cell_type": "markdown",
   "metadata": {},
   "source": [
    "# Covid-19 Data Collector\n",
    "## Dependencies:\n",
    "- ```Pandas``` - ```pip install pandas```\n",
    "- ```Requests``` - ```pip install requests```\n",
    "- ```json``` - ```builtin module```"
   ]
  },
  {
   "cell_type": "markdown",
   "metadata": {},
   "source": [
    "### Importing dependencies"
   ]
  },
  {
   "cell_type": "code",
   "execution_count": 1,
   "metadata": {},
   "outputs": [],
   "source": [
    "import pandas as pd\n",
    "import requests\n",
    "import json"
   ]
  },
  {
   "cell_type": "markdown",
   "metadata": {},
   "source": [
    "### Getting geojson data from API"
   ]
  },
  {
   "cell_type": "code",
   "execution_count": 2,
   "metadata": {},
   "outputs": [],
   "source": [
    "data = requests.get('http://covid19bangladesh.pythonanywhere.com/district').json()"
   ]
  },
  {
   "cell_type": "code",
   "execution_count": 3,
   "metadata": {},
   "outputs": [],
   "source": [
    "li = [i['properties'] for i in data['features']]"
   ]
  },
  {
   "cell_type": "markdown",
   "metadata": {},
   "source": [
    "### Converting list to a dataframe"
   ]
  },
  {
   "cell_type": "code",
   "execution_count": 4,
   "metadata": {},
   "outputs": [],
   "source": [
    "district_data = pd.DataFrame(li)"
   ]
  },
  {
   "cell_type": "code",
   "execution_count": 5,
   "metadata": {},
   "outputs": [],
   "source": [
    "district_data.set_index('uid', inplace=True)"
   ]
  },
  {
   "cell_type": "markdown",
   "metadata": {},
   "source": [
    "### Exporting to CSV"
   ]
  },
  {
   "cell_type": "code",
   "execution_count": 6,
   "metadata": {},
   "outputs": [],
   "source": [
    "district_data.to_csv('district_data.csv', encoding='utf-8-sig')"
   ]
  },
  {
   "cell_type": "markdown",
   "metadata": {},
   "source": [
    "### Getting json data of Dhaka from API"
   ]
  },
  {
   "cell_type": "code",
   "execution_count": 7,
   "metadata": {},
   "outputs": [],
   "source": [
    "dhaka_data = pd.DataFrame(requests.get('https://covid19bangladesh.pythonanywhere.com/dhaka').json())"
   ]
  },
  {
   "cell_type": "code",
   "execution_count": 8,
   "metadata": {},
   "outputs": [],
   "source": [
    "dhaka_data.set_index('bnName', inplace=True)"
   ]
  },
  {
   "cell_type": "code",
   "execution_count": 9,
   "metadata": {},
   "outputs": [
    {
     "data": {
      "text/html": [
       "<div>\n",
       "<style scoped>\n",
       "    .dataframe tbody tr th:only-of-type {\n",
       "        vertical-align: middle;\n",
       "    }\n",
       "\n",
       "    .dataframe tbody tr th {\n",
       "        vertical-align: top;\n",
       "    }\n",
       "\n",
       "    .dataframe thead th {\n",
       "        text-align: right;\n",
       "    }\n",
       "</style>\n",
       "<table border=\"1\" class=\"dataframe\">\n",
       "  <thead>\n",
       "    <tr style=\"text-align: right;\">\n",
       "      <th></th>\n",
       "      <th>confirmed</th>\n",
       "      <th>name</th>\n",
       "    </tr>\n",
       "    <tr>\n",
       "      <th>bnName</th>\n",
       "      <th></th>\n",
       "      <th></th>\n",
       "    </tr>\n",
       "  </thead>\n",
       "  <tbody>\n",
       "    <tr>\n",
       "      <th>মিরপুর</th>\n",
       "      <td>3369</td>\n",
       "      <td>Mirpur</td>\n",
       "    </tr>\n",
       "    <tr>\n",
       "      <th>উত্তরা</th>\n",
       "      <td>1566</td>\n",
       "      <td>Uttara</td>\n",
       "    </tr>\n",
       "    <tr>\n",
       "      <th>ধানমন্ডি</th>\n",
       "      <td>1375</td>\n",
       "      <td>Dhanmondi</td>\n",
       "    </tr>\n",
       "    <tr>\n",
       "      <th>মোহাম্মাদপুর</th>\n",
       "      <td>1363</td>\n",
       "      <td>Mohammadpur</td>\n",
       "    </tr>\n",
       "    <tr>\n",
       "      <th>যাত্রাবাড়ী</th>\n",
       "      <td>903</td>\n",
       "      <td>Jatrabari</td>\n",
       "    </tr>\n",
       "    <tr>\n",
       "      <th>...</th>\n",
       "      <td>...</td>\n",
       "      <td>...</td>\n",
       "    </tr>\n",
       "    <tr>\n",
       "      <th>কলতাবাজার</th>\n",
       "      <td>1</td>\n",
       "      <td>Koltabazar</td>\n",
       "    </tr>\n",
       "    <tr>\n",
       "      <th>মানিকদি</th>\n",
       "      <td>1</td>\n",
       "      <td>Manikdi</td>\n",
       "    </tr>\n",
       "    <tr>\n",
       "      <th>NaN</th>\n",
       "      <td>1</td>\n",
       "      <td>Nabisco</td>\n",
       "    </tr>\n",
       "    <tr>\n",
       "      <th>সায়েন্স ল্যাব</th>\n",
       "      <td>1</td>\n",
       "      <td>Science Lab</td>\n",
       "    </tr>\n",
       "    <tr>\n",
       "      <th>উর্দু রোড</th>\n",
       "      <td>1</td>\n",
       "      <td>Urdu Road</td>\n",
       "    </tr>\n",
       "  </tbody>\n",
       "</table>\n",
       "<p>217 rows × 2 columns</p>\n",
       "</div>"
      ],
      "text/plain": [
       "               confirmed         name\n",
       "bnName                               \n",
       "মিরপুর              3369       Mirpur\n",
       "উত্তরা              1566       Uttara\n",
       "ধানমন্ডি            1375    Dhanmondi\n",
       "মোহাম্মাদপুর        1363  Mohammadpur\n",
       "যাত্রাবাড়ী           903    Jatrabari\n",
       "...                  ...          ...\n",
       "কলতাবাজার              1   Koltabazar\n",
       "মানিকদি                1      Manikdi\n",
       "NaN                    1      Nabisco\n",
       "সায়েন্স ল্যাব          1  Science Lab\n",
       "উর্দু রোড              1    Urdu Road\n",
       "\n",
       "[217 rows x 2 columns]"
      ]
     },
     "execution_count": 9,
     "metadata": {},
     "output_type": "execute_result"
    }
   ],
   "source": [
    "dhaka_data"
   ]
  },
  {
   "cell_type": "markdown",
   "metadata": {},
   "source": [
    "### Exporting to CSV"
   ]
  },
  {
   "cell_type": "code",
   "execution_count": 10,
   "metadata": {},
   "outputs": [],
   "source": [
    "dhaka_data.to_csv('dhaka_data.csv', encoding='utf-8-sig')"
   ]
  }
 ],
 "metadata": {
  "kernelspec": {
   "display_name": "Python 3",
   "language": "python",
   "name": "python3"
  },
  "language_info": {
   "codemirror_mode": {
    "name": "ipython",
    "version": 3
   },
   "file_extension": ".py",
   "mimetype": "text/x-python",
   "name": "python",
   "nbconvert_exporter": "python",
   "pygments_lexer": "ipython3",
   "version": "3.8.6"
  }
 },
 "nbformat": 4,
 "nbformat_minor": 4
}
