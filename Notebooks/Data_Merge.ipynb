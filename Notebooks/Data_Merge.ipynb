{
 "cells": [
  {
   "cell_type": "code",
   "execution_count": 1,
   "metadata": {},
   "outputs": [],
   "source": [
    "import pandas as pd"
   ]
  },
  {
   "cell_type": "code",
   "execution_count": 2,
   "metadata": {},
   "outputs": [],
   "source": [
    "pop_data = pd.read_csv('../Data/district_wise_population(2016).csv')"
   ]
  },
  {
   "cell_type": "code",
   "execution_count": 3,
   "metadata": {},
   "outputs": [
    {
     "data": {
      "text/plain": [
       "Index(['district', 'population_2016'], dtype='object')"
      ]
     },
     "execution_count": 3,
     "metadata": {},
     "output_type": "execute_result"
    }
   ],
   "source": [
    "pop_data.columns = list(map(lambda x: x.lower(), pop_data.columns))\n",
    "pop_data.columns"
   ]
  },
  {
   "cell_type": "code",
   "execution_count": 4,
   "metadata": {},
   "outputs": [],
   "source": [
    "df = pd.read_csv(\"../Data/district_cases.csv\")"
   ]
  },
  {
   "cell_type": "code",
   "execution_count": 5,
   "metadata": {},
   "outputs": [],
   "source": [
    "merged_df = df.merge(pop_data, how='inner', on = 'district')"
   ]
  },
  {
   "cell_type": "code",
   "execution_count": 6,
   "metadata": {},
   "outputs": [
    {
     "data": {
      "text/html": [
       "<div>\n",
       "<style scoped>\n",
       "    .dataframe tbody tr th:only-of-type {\n",
       "        vertical-align: middle;\n",
       "    }\n",
       "\n",
       "    .dataframe tbody tr th {\n",
       "        vertical-align: top;\n",
       "    }\n",
       "\n",
       "    .dataframe thead th {\n",
       "        text-align: right;\n",
       "    }\n",
       "</style>\n",
       "<table border=\"1\" class=\"dataframe\">\n",
       "  <thead>\n",
       "    <tr style=\"text-align: right;\">\n",
       "      <th></th>\n",
       "      <th>total_number_of_cases</th>\n",
       "      <th>population_2016</th>\n",
       "    </tr>\n",
       "    <tr>\n",
       "      <th>district</th>\n",
       "      <th></th>\n",
       "      <th></th>\n",
       "    </tr>\n",
       "  </thead>\n",
       "  <tbody>\n",
       "    <tr>\n",
       "      <th>Dhaka</th>\n",
       "      <td>134156</td>\n",
       "      <td>13142000</td>\n",
       "    </tr>\n",
       "    <tr>\n",
       "      <th>Chattogram</th>\n",
       "      <td>22883</td>\n",
       "      <td>8440000</td>\n",
       "    </tr>\n",
       "    <tr>\n",
       "      <th>Bogura</th>\n",
       "      <td>8413</td>\n",
       "      <td>3724000</td>\n",
       "    </tr>\n",
       "    <tr>\n",
       "      <th>Cumilla</th>\n",
       "      <td>8247</td>\n",
       "      <td>6046000</td>\n",
       "    </tr>\n",
       "    <tr>\n",
       "      <th>Sylhet</th>\n",
       "      <td>8075</td>\n",
       "      <td>3957000</td>\n",
       "    </tr>\n",
       "    <tr>\n",
       "      <th>...</th>\n",
       "      <td>...</td>\n",
       "      <td>...</td>\n",
       "    </tr>\n",
       "    <tr>\n",
       "      <th>Jhalokathi</th>\n",
       "      <td>758</td>\n",
       "      <td>741000</td>\n",
       "    </tr>\n",
       "    <tr>\n",
       "      <th>Khagrachari</th>\n",
       "      <td>722</td>\n",
       "      <td>685000</td>\n",
       "    </tr>\n",
       "    <tr>\n",
       "      <th>Panchagar</th>\n",
       "      <td>710</td>\n",
       "      <td>1104000</td>\n",
       "    </tr>\n",
       "    <tr>\n",
       "      <th>Meherpur</th>\n",
       "      <td>691</td>\n",
       "      <td>716000</td>\n",
       "    </tr>\n",
       "    <tr>\n",
       "      <th>Sherpur</th>\n",
       "      <td>511</td>\n",
       "      <td>1504000</td>\n",
       "    </tr>\n",
       "  </tbody>\n",
       "</table>\n",
       "<p>64 rows × 2 columns</p>\n",
       "</div>"
      ],
      "text/plain": [
       "             total_number_of_cases  population_2016\n",
       "district                                           \n",
       "Dhaka                       134156         13142000\n",
       "Chattogram                   22883          8440000\n",
       "Bogura                        8413          3724000\n",
       "Cumilla                       8247          6046000\n",
       "Sylhet                        8075          3957000\n",
       "...                            ...              ...\n",
       "Jhalokathi                     758           741000\n",
       "Khagrachari                    722           685000\n",
       "Panchagar                      710          1104000\n",
       "Meherpur                       691           716000\n",
       "Sherpur                        511          1504000\n",
       "\n",
       "[64 rows x 2 columns]"
      ]
     },
     "execution_count": 6,
     "metadata": {},
     "output_type": "execute_result"
    }
   ],
   "source": [
    "merged_df.set_index('district')"
   ]
  },
  {
   "cell_type": "code",
   "execution_count": 7,
   "metadata": {},
   "outputs": [],
   "source": [
    "merged_df.to_csv('../Data/cases_including_pop_data.csv')"
   ]
  },
  {
   "cell_type": "code",
   "execution_count": 8,
   "metadata": {},
   "outputs": [],
   "source": [
    "merged_df.to_pickle('../Data/cases_including_pop_data.pkl')"
   ]
  }
 ],
 "metadata": {
  "kernelspec": {
   "display_name": "Python 3",
   "language": "python",
   "name": "python3"
  },
  "language_info": {
   "codemirror_mode": {
    "name": "ipython",
    "version": 3
   },
   "file_extension": ".py",
   "mimetype": "text/x-python",
   "name": "python",
   "nbconvert_exporter": "python",
   "pygments_lexer": "ipython3",
   "version": "3.9.0"
  }
 },
 "nbformat": 4,
 "nbformat_minor": 4
}
